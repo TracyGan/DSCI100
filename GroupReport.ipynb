{
 "cells": [
  {
   "cell_type": "markdown",
   "id": "c48d07a2-fcca-4d74-84db-0a5ebb275b77",
   "metadata": {},
   "source": [
    "# Group Report"
   ]
  },
  {
   "cell_type": "markdown",
   "id": "1b0ca0ef-70e0-4a81-a141-14aa5fe408cd",
   "metadata": {},
   "source": [
    "## Heart Disease\n",
    "Today we will explore the heart disease dataset. We want to create a classifier model to predict whether a patient has heart disease by using age, sex, cholesterol and maximum heart rate as variables. We chose these variables as our predictors because they are important risk factors according to a research article (Peter, 1998). However, we will implement forward selection to check which of these variables would best predict our model.\n",
    "\n",
    "The columns in this dataset are:\n",
    "1. Age - (years)\n",
    "2. Sex - (1 = male, 0 = female)\n",
    "3. Chest Pain Type - (1 = typical angina)\n",
    "                     (2 = atypical angina)\n",
    "                     (3 = non-anginal pain)\n",
    "                     (4 = asymptomatic)\n",
    "4. Resting Blood Pressure - (mm Hg)\n",
    "5. Cholesterol -(mg/dl)\n",
    "6. Fasting Blood Sugar - (> 120 mg/dl)\n",
    "                       - (1 = true; 0 = false)\n",
    "7. Resting Electrocardiogram\n",
    "8. Maximum heart rate\n",
    "9. Exercised induced angina - (1 = yes; 0 = no)\n",
    "10. ST depression induced by exercise relative to rest\n",
    "11. Slope of peak exercise ST segment\n",
    "12. Number of major vessels \n",
    "13. Blood disorder - 3 = normal\n",
    "                     6 = fixed defect\n",
    "                     7 = reversible defect\n",
    "14. Heart disease status - either yes or no "
   ]
  },
  {
   "cell_type": "code",
   "execution_count": 3,
   "id": "9a381b97-8f9f-44a9-9346-ff77d32d3a0a",
   "metadata": {},
   "outputs": [
    {
     "name": "stderr",
     "output_type": "stream",
     "text": [
      "── \u001b[1mAttaching packages\u001b[22m ─────────────────────────────────────── tidyverse 1.3.1 ──\n",
      "\n",
      "\u001b[32m✔\u001b[39m \u001b[34mggplot2\u001b[39m 3.3.6     \u001b[32m✔\u001b[39m \u001b[34mpurrr  \u001b[39m 0.3.4\n",
      "\u001b[32m✔\u001b[39m \u001b[34mtibble \u001b[39m 3.1.7     \u001b[32m✔\u001b[39m \u001b[34mdplyr  \u001b[39m 1.0.9\n",
      "\u001b[32m✔\u001b[39m \u001b[34mtidyr  \u001b[39m 1.2.0     \u001b[32m✔\u001b[39m \u001b[34mstringr\u001b[39m 1.4.0\n",
      "\u001b[32m✔\u001b[39m \u001b[34mreadr  \u001b[39m 2.1.2     \u001b[32m✔\u001b[39m \u001b[34mforcats\u001b[39m 0.5.1\n",
      "\n",
      "── \u001b[1mConflicts\u001b[22m ────────────────────────────────────────── tidyverse_conflicts() ──\n",
      "\u001b[31m✖\u001b[39m \u001b[34mdplyr\u001b[39m::\u001b[32mfilter()\u001b[39m masks \u001b[34mstats\u001b[39m::filter()\n",
      "\u001b[31m✖\u001b[39m \u001b[34mdplyr\u001b[39m::\u001b[32mlag()\u001b[39m    masks \u001b[34mstats\u001b[39m::lag()\n",
      "\n",
      "── \u001b[1mAttaching packages\u001b[22m ────────────────────────────────────── tidymodels 1.0.0 ──\n",
      "\n",
      "\u001b[32m✔\u001b[39m \u001b[34mbroom       \u001b[39m 1.0.0     \u001b[32m✔\u001b[39m \u001b[34mrsample     \u001b[39m 1.0.0\n",
      "\u001b[32m✔\u001b[39m \u001b[34mdials       \u001b[39m 1.0.0     \u001b[32m✔\u001b[39m \u001b[34mtune        \u001b[39m 1.0.0\n",
      "\u001b[32m✔\u001b[39m \u001b[34minfer       \u001b[39m 1.0.2     \u001b[32m✔\u001b[39m \u001b[34mworkflows   \u001b[39m 1.0.0\n",
      "\u001b[32m✔\u001b[39m \u001b[34mmodeldata   \u001b[39m 1.0.0     \u001b[32m✔\u001b[39m \u001b[34mworkflowsets\u001b[39m 1.0.0\n",
      "\u001b[32m✔\u001b[39m \u001b[34mparsnip     \u001b[39m 1.0.0     \u001b[32m✔\u001b[39m \u001b[34myardstick   \u001b[39m 1.0.0\n",
      "\u001b[32m✔\u001b[39m \u001b[34mrecipes     \u001b[39m 1.0.1     \n",
      "\n",
      "── \u001b[1mConflicts\u001b[22m ───────────────────────────────────────── tidymodels_conflicts() ──\n",
      "\u001b[31m✖\u001b[39m \u001b[34mscales\u001b[39m::\u001b[32mdiscard()\u001b[39m masks \u001b[34mpurrr\u001b[39m::discard()\n",
      "\u001b[31m✖\u001b[39m \u001b[34mdplyr\u001b[39m::\u001b[32mfilter()\u001b[39m   masks \u001b[34mstats\u001b[39m::filter()\n",
      "\u001b[31m✖\u001b[39m \u001b[34mrecipes\u001b[39m::\u001b[32mfixed()\u001b[39m  masks \u001b[34mstringr\u001b[39m::fixed()\n",
      "\u001b[31m✖\u001b[39m \u001b[34mdplyr\u001b[39m::\u001b[32mlag()\u001b[39m      masks \u001b[34mstats\u001b[39m::lag()\n",
      "\u001b[31m✖\u001b[39m \u001b[34myardstick\u001b[39m::\u001b[32mspec()\u001b[39m masks \u001b[34mreadr\u001b[39m::spec()\n",
      "\u001b[31m✖\u001b[39m \u001b[34mrecipes\u001b[39m::\u001b[32mstep()\u001b[39m   masks \u001b[34mstats\u001b[39m::step()\n",
      "\u001b[34m•\u001b[39m Dig deeper into tidy modeling with R at \u001b[32mhttps://www.tmwr.org\u001b[39m\n",
      "\n"
     ]
    }
   ],
   "source": [
    "# Run this cell before continuing.\n",
    "library(tidyverse)\n",
    "library(repr)\n",
    "library(tidymodels)\n",
    "library(digest)\n",
    "library(cowplot)\n",
    "library(infer)\n",
    "options(repr.matrix.max.rows = 6)"
   ]
  },
  {
   "cell_type": "code",
   "execution_count": 4,
   "id": "8d64e5b0-8f37-43e8-b7e4-00a489976af3",
   "metadata": {},
   "outputs": [
    {
     "name": "stderr",
     "output_type": "stream",
     "text": [
      "\u001b[1mRows: \u001b[22m\u001b[34m303\u001b[39m \u001b[1mColumns: \u001b[22m\u001b[34m14\u001b[39m\n",
      "\u001b[36m──\u001b[39m \u001b[1mColumn specification\u001b[22m \u001b[36m────────────────────────────────────────────────────────\u001b[39m\n",
      "\u001b[1mDelimiter:\u001b[22m \",\"\n",
      "\u001b[31mchr\u001b[39m  (2): X12, X13\n",
      "\u001b[32mdbl\u001b[39m (12): X1, X2, X3, X4, X5, X6, X7, X8, X9, X10, X11, X14\n",
      "\n",
      "\u001b[36mℹ\u001b[39m Use `spec()` to retrieve the full column specification for this data.\n",
      "\u001b[36mℹ\u001b[39m Specify the column types or set `show_col_types = FALSE` to quiet this message.\n"
     ]
    },
    {
     "data": {
      "text/html": [
       "<table class=\"dataframe\">\n",
       "<caption>A tibble: 303 × 14</caption>\n",
       "<thead>\n",
       "\t<tr><th scope=col>age</th><th scope=col>sex</th><th scope=col>cp</th><th scope=col>trestbps</th><th scope=col>chol</th><th scope=col>fbs</th><th scope=col>restecg</th><th scope=col>thalach</th><th scope=col>exang</th><th scope=col>oldpeak</th><th scope=col>slope</th><th scope=col>ca</th><th scope=col>thal</th><th scope=col>num</th></tr>\n",
       "\t<tr><th scope=col>&lt;dbl&gt;</th><th scope=col>&lt;dbl&gt;</th><th scope=col>&lt;dbl&gt;</th><th scope=col>&lt;dbl&gt;</th><th scope=col>&lt;dbl&gt;</th><th scope=col>&lt;dbl&gt;</th><th scope=col>&lt;dbl&gt;</th><th scope=col>&lt;dbl&gt;</th><th scope=col>&lt;dbl&gt;</th><th scope=col>&lt;dbl&gt;</th><th scope=col>&lt;dbl&gt;</th><th scope=col>&lt;chr&gt;</th><th scope=col>&lt;chr&gt;</th><th scope=col>&lt;fct&gt;</th></tr>\n",
       "</thead>\n",
       "<tbody>\n",
       "\t<tr><td>63</td><td>1</td><td>1</td><td>145</td><td>233</td><td>1</td><td>2</td><td>150</td><td>0</td><td>2.3</td><td>3</td><td>0.0</td><td>6.0</td><td>0</td></tr>\n",
       "\t<tr><td>67</td><td>1</td><td>4</td><td>160</td><td>286</td><td>0</td><td>2</td><td>108</td><td>1</td><td>1.5</td><td>2</td><td>3.0</td><td>3.0</td><td>1</td></tr>\n",
       "\t<tr><td>67</td><td>1</td><td>4</td><td>120</td><td>229</td><td>0</td><td>2</td><td>129</td><td>1</td><td>2.6</td><td>2</td><td>2.0</td><td>7.0</td><td>1</td></tr>\n",
       "\t<tr><td>⋮</td><td>⋮</td><td>⋮</td><td>⋮</td><td>⋮</td><td>⋮</td><td>⋮</td><td>⋮</td><td>⋮</td><td>⋮</td><td>⋮</td><td>⋮</td><td>⋮</td><td>⋮</td></tr>\n",
       "\t<tr><td>57</td><td>1</td><td>4</td><td>130</td><td>131</td><td>0</td><td>0</td><td>115</td><td>1</td><td>1.2</td><td>2</td><td>1.0</td><td>7.0</td><td>1</td></tr>\n",
       "\t<tr><td>57</td><td>0</td><td>2</td><td>130</td><td>236</td><td>0</td><td>2</td><td>174</td><td>0</td><td>0.0</td><td>2</td><td>1.0</td><td>3.0</td><td>1</td></tr>\n",
       "\t<tr><td>38</td><td>1</td><td>3</td><td>138</td><td>175</td><td>0</td><td>0</td><td>173</td><td>0</td><td>0.0</td><td>1</td><td>?  </td><td>3.0</td><td>0</td></tr>\n",
       "</tbody>\n",
       "</table>\n"
      ],
      "text/latex": [
       "A tibble: 303 × 14\n",
       "\\begin{tabular}{llllllllllllll}\n",
       " age & sex & cp & trestbps & chol & fbs & restecg & thalach & exang & oldpeak & slope & ca & thal & num\\\\\n",
       " <dbl> & <dbl> & <dbl> & <dbl> & <dbl> & <dbl> & <dbl> & <dbl> & <dbl> & <dbl> & <dbl> & <chr> & <chr> & <fct>\\\\\n",
       "\\hline\n",
       "\t 63 & 1 & 1 & 145 & 233 & 1 & 2 & 150 & 0 & 2.3 & 3 & 0.0 & 6.0 & 0\\\\\n",
       "\t 67 & 1 & 4 & 160 & 286 & 0 & 2 & 108 & 1 & 1.5 & 2 & 3.0 & 3.0 & 1\\\\\n",
       "\t 67 & 1 & 4 & 120 & 229 & 0 & 2 & 129 & 1 & 2.6 & 2 & 2.0 & 7.0 & 1\\\\\n",
       "\t ⋮ & ⋮ & ⋮ & ⋮ & ⋮ & ⋮ & ⋮ & ⋮ & ⋮ & ⋮ & ⋮ & ⋮ & ⋮ & ⋮\\\\\n",
       "\t 57 & 1 & 4 & 130 & 131 & 0 & 0 & 115 & 1 & 1.2 & 2 & 1.0 & 7.0 & 1\\\\\n",
       "\t 57 & 0 & 2 & 130 & 236 & 0 & 2 & 174 & 0 & 0.0 & 2 & 1.0 & 3.0 & 1\\\\\n",
       "\t 38 & 1 & 3 & 138 & 175 & 0 & 0 & 173 & 0 & 0.0 & 1 & ?   & 3.0 & 0\\\\\n",
       "\\end{tabular}\n"
      ],
      "text/markdown": [
       "\n",
       "A tibble: 303 × 14\n",
       "\n",
       "| age &lt;dbl&gt; | sex &lt;dbl&gt; | cp &lt;dbl&gt; | trestbps &lt;dbl&gt; | chol &lt;dbl&gt; | fbs &lt;dbl&gt; | restecg &lt;dbl&gt; | thalach &lt;dbl&gt; | exang &lt;dbl&gt; | oldpeak &lt;dbl&gt; | slope &lt;dbl&gt; | ca &lt;chr&gt; | thal &lt;chr&gt; | num &lt;fct&gt; |\n",
       "|---|---|---|---|---|---|---|---|---|---|---|---|---|---|\n",
       "| 63 | 1 | 1 | 145 | 233 | 1 | 2 | 150 | 0 | 2.3 | 3 | 0.0 | 6.0 | 0 |\n",
       "| 67 | 1 | 4 | 160 | 286 | 0 | 2 | 108 | 1 | 1.5 | 2 | 3.0 | 3.0 | 1 |\n",
       "| 67 | 1 | 4 | 120 | 229 | 0 | 2 | 129 | 1 | 2.6 | 2 | 2.0 | 7.0 | 1 |\n",
       "| ⋮ | ⋮ | ⋮ | ⋮ | ⋮ | ⋮ | ⋮ | ⋮ | ⋮ | ⋮ | ⋮ | ⋮ | ⋮ | ⋮ |\n",
       "| 57 | 1 | 4 | 130 | 131 | 0 | 0 | 115 | 1 | 1.2 | 2 | 1.0 | 7.0 | 1 |\n",
       "| 57 | 0 | 2 | 130 | 236 | 0 | 2 | 174 | 0 | 0.0 | 2 | 1.0 | 3.0 | 1 |\n",
       "| 38 | 1 | 3 | 138 | 175 | 0 | 0 | 173 | 0 | 0.0 | 1 | ?   | 3.0 | 0 |\n",
       "\n"
      ],
      "text/plain": [
       "    age sex cp trestbps chol fbs restecg thalach exang oldpeak slope ca  thal\n",
       "1   63  1   1  145      233  1   2       150     0     2.3     3     0.0 6.0 \n",
       "2   67  1   4  160      286  0   2       108     1     1.5     2     3.0 3.0 \n",
       "3   67  1   4  120      229  0   2       129     1     2.6     2     2.0 7.0 \n",
       "⋮   ⋮   ⋮   ⋮  ⋮        ⋮    ⋮   ⋮       ⋮       ⋮     ⋮       ⋮     ⋮   ⋮   \n",
       "301 57  1   4  130      131  0   0       115     1     1.2     2     1.0 7.0 \n",
       "302 57  0   2  130      236  0   2       174     0     0.0     2     1.0 3.0 \n",
       "303 38  1   3  138      175  0   0       173     0     0.0     1     ?   3.0 \n",
       "    num\n",
       "1   0  \n",
       "2   1  \n",
       "3   1  \n",
       "⋮   ⋮  \n",
       "301 1  \n",
       "302 1  \n",
       "303 0  "
      ]
     },
     "metadata": {},
     "output_type": "display_data"
    }
   ],
   "source": [
    "set.seed(20)\n",
    "\n",
    "heart_data_1 <- read_csv(\"data/processed.cleveland (1).data\", col_names = FALSE) |>\n",
    "                mutate(X14 = as_factor(X14)) \n",
    "                \n",
    "colnames(heart_data_1) <- c(\"age\",\"sex\",\"cp\",\"trestbps\",\"chol\",\"fbs\",\"restecg\",\"thalach\",\n",
    "                                    \"exang\",\"oldpeak\",\"slope\",\"ca\",\"thal\",\"num\") \n",
    "\n",
    "heart_data <- heart_data_1 |>\n",
    "                mutate(num=recode(num, \"0\" = \"0\",\n",
    "                                       \"1\" = \"1\",\n",
    "                                       \"2\" = \"1\",\n",
    "                                       \"3\" = \"1\",\n",
    "                                       \"4\" = \"1\"))\n",
    "heart_data"
   ]
  },
  {
   "cell_type": "markdown",
   "id": "4e7a07ab-6783-4ee5-ae92-522ccb537e5c",
   "metadata": {},
   "source": [
    "Fig1.0"
   ]
  },
  {
   "cell_type": "markdown",
   "id": "aa4ff186-79e2-4016-a2cd-4ce620743a15",
   "metadata": {},
   "source": [
    "We read the .csv file into R using read_csv. We didn't clean the data into tidy data, as the data is already tidy."
   ]
  },
  {
   "cell_type": "code",
   "execution_count": 5,
   "id": "5283cc47-2561-46f9-b1eb-7dd92a648e0e",
   "metadata": {},
   "outputs": [
    {
     "data": {
      "text/html": [
       "303"
      ],
      "text/latex": [
       "303"
      ],
      "text/markdown": [
       "303"
      ],
      "text/plain": [
       "[1] 303"
      ]
     },
     "metadata": {},
     "output_type": "display_data"
    },
    {
     "data": {
      "text/html": [
       "<table class=\"dataframe\">\n",
       "<caption>A tibble: 2 × 3</caption>\n",
       "<thead>\n",
       "\t<tr><th scope=col>num</th><th scope=col>n</th><th scope=col>proportion</th></tr>\n",
       "\t<tr><th scope=col>&lt;fct&gt;</th><th scope=col>&lt;int&gt;</th><th scope=col>&lt;dbl&gt;</th></tr>\n",
       "</thead>\n",
       "<tbody>\n",
       "\t<tr><td>0</td><td>164</td><td>0.5412541</td></tr>\n",
       "\t<tr><td>1</td><td>139</td><td>0.4587459</td></tr>\n",
       "</tbody>\n",
       "</table>\n"
      ],
      "text/latex": [
       "A tibble: 2 × 3\n",
       "\\begin{tabular}{lll}\n",
       " num & n & proportion\\\\\n",
       " <fct> & <int> & <dbl>\\\\\n",
       "\\hline\n",
       "\t 0 & 164 & 0.5412541\\\\\n",
       "\t 1 & 139 & 0.4587459\\\\\n",
       "\\end{tabular}\n"
      ],
      "text/markdown": [
       "\n",
       "A tibble: 2 × 3\n",
       "\n",
       "| num &lt;fct&gt; | n &lt;int&gt; | proportion &lt;dbl&gt; |\n",
       "|---|---|---|\n",
       "| 0 | 164 | 0.5412541 |\n",
       "| 1 | 139 | 0.4587459 |\n",
       "\n"
      ],
      "text/plain": [
       "  num n   proportion\n",
       "1 0   164 0.5412541 \n",
       "2 1   139 0.4587459 "
      ]
     },
     "metadata": {},
     "output_type": "display_data"
    }
   ],
   "source": [
    "nrow(heart_data) \n",
    "heart_proportion <- heart_data |>\n",
    "                    group_by(num) |>\n",
    "                    summarise(n=n()) |>\n",
    "                    mutate(proportion= n/303)\n",
    "                    \n",
    "heart_proportion"
   ]
  },
  {
   "cell_type": "markdown",
   "id": "dac7e901-f938-4239-80e6-c7741ab7cb48",
   "metadata": {},
   "source": [
    "Fig1.1"
   ]
  },
  {
   "cell_type": "markdown",
   "id": "161c0682-a0d4-4095-8d02-0044f059b992",
   "metadata": {},
   "source": [
    "This summary shows the proportion of patients having heart disease or not shows that our data is not biased as there is a good amount of both data. "
   ]
  },
  {
   "cell_type": "code",
   "execution_count": 6,
   "id": "defc66bd-0308-476c-b832-e7a15204d824",
   "metadata": {},
   "outputs": [],
   "source": [
    "heart_split <- initial_split(heart_data, prop = 0.75, strata = num) \n",
    "heart_train <- training(heart_split)\n",
    "heart_test <- testing(heart_split) "
   ]
  },
  {
   "cell_type": "markdown",
   "id": "6ab6b14f-b113-487e-81a7-843609cbd3ff",
   "metadata": {},
   "source": [
    "We split our data into 75% of training data and 25% of testing data. This ensures that we have a large enough dataset for both the training and testing data."
   ]
  },
  {
   "cell_type": "markdown",
   "id": "29ebec26-c646-4801-954a-ee007edb564b",
   "metadata": {},
   "source": [
    "# Method\n",
    "First, we want to implement the forward selection to figure out which predictors out of age, cholesterol, maximum heart rate and sex are the best for predicting our model. "
   ]
  },
  {
   "cell_type": "code",
   "execution_count": 10,
   "id": "55d7d7a2-866d-41cc-a4b9-4ab94db53599",
   "metadata": {},
   "outputs": [
    {
     "data": {
      "text/html": [
       "<table class=\"dataframe\">\n",
       "<caption>A tibble: 4 × 3</caption>\n",
       "<thead>\n",
       "\t<tr><th scope=col>size</th><th scope=col>model_string</th><th scope=col>accuracy</th></tr>\n",
       "\t<tr><th scope=col>&lt;int&gt;</th><th scope=col>&lt;chr&gt;</th><th scope=col>&lt;dbl&gt;</th></tr>\n",
       "</thead>\n",
       "<tbody>\n",
       "\t<tr><td>1</td><td>num ~ thalach                  </td><td>0.6664702</td></tr>\n",
       "\t<tr><td>2</td><td>num ~ thalach+age              </td><td>0.7120615</td></tr>\n",
       "\t<tr><td>3</td><td>num ~ thalach+age+trestbps     </td><td>0.6562551</td></tr>\n",
       "\t<tr><td>4</td><td>num ~ thalach+age+trestbps+chol</td><td>0.6722692</td></tr>\n",
       "</tbody>\n",
       "</table>\n"
      ],
      "text/latex": [
       "A tibble: 4 × 3\n",
       "\\begin{tabular}{lll}\n",
       " size & model\\_string & accuracy\\\\\n",
       " <int> & <chr> & <dbl>\\\\\n",
       "\\hline\n",
       "\t 1 & num \\textasciitilde{} thalach                   & 0.6664702\\\\\n",
       "\t 2 & num \\textasciitilde{} thalach+age               & 0.7120615\\\\\n",
       "\t 3 & num \\textasciitilde{} thalach+age+trestbps      & 0.6562551\\\\\n",
       "\t 4 & num \\textasciitilde{} thalach+age+trestbps+chol & 0.6722692\\\\\n",
       "\\end{tabular}\n"
      ],
      "text/markdown": [
       "\n",
       "A tibble: 4 × 3\n",
       "\n",
       "| size &lt;int&gt; | model_string &lt;chr&gt; | accuracy &lt;dbl&gt; |\n",
       "|---|---|---|\n",
       "| 1 | num ~ thalach                   | 0.6664702 |\n",
       "| 2 | num ~ thalach+age               | 0.7120615 |\n",
       "| 3 | num ~ thalach+age+trestbps      | 0.6562551 |\n",
       "| 4 | num ~ thalach+age+trestbps+chol | 0.6722692 |\n",
       "\n"
      ],
      "text/plain": [
       "  size model_string                    accuracy \n",
       "1 1    num ~ thalach                   0.6664702\n",
       "2 2    num ~ thalach+age               0.7120615\n",
       "3 3    num ~ thalach+age+trestbps      0.6562551\n",
       "4 4    num ~ thalach+age+trestbps+chol 0.6722692"
      ]
     },
     "metadata": {},
     "output_type": "display_data"
    }
   ],
   "source": [
    "# forward selection\n",
    "heart_subset <- heart_data |>\n",
    "    select(num, age, chol, thalach, trestbps, sex)\n",
    "\n",
    "names <- colnames(heart_subset |> \n",
    "                  select(age, chol, thalach, trestbps))\n",
    "\n",
    "example_formula <- paste(\"num\", \"~\", paste(names, collapse=\"+\"))\n",
    "\n",
    "# create a tibble to store results\n",
    "accuracies <- tibble(size = integer(), \n",
    "                     model_string = character(), \n",
    "                     accuracy = numeric())\n",
    "\n",
    "# create a model specification\n",
    "heart_model <- nearest_neighbor(weight_func = \"rectangular\", neighbors = tune()) |>\n",
    "            set_engine(\"kknn\") |>\n",
    "            set_mode(\"classification\")\n",
    "\n",
    "# create 10 fold cross validation object\n",
    "heart_vfold <- vfold_cv(heart_subset, v = 10, strata = num)\n",
    "\n",
    "# store the number of predictors\n",
    "n_total <- length(names)\n",
    "\n",
    "# stores selected predictors\n",
    "selected <- c()\n",
    "\n",
    "# for every size from 1 to the total number of predictors\n",
    "for (i in 1:n_total) {\n",
    "    accs <- list()\n",
    "    models <- list()\n",
    "    for (j in 1:length(names)) {\n",
    "        preds_new <- c(selected, names [[j]])\n",
    "        model_string <- paste(\"num\", \"~\", paste(preds_new, collapse=\"+\"))\n",
    "        \n",
    "        #create a recipe from the model string\n",
    "        heart_recipe <- recipe(as.formula(model_string),\n",
    "                               data = heart_subset) |>\n",
    "                        step_scale(all_predictors()) |>\n",
    "                        step_center(all_predictors())\n",
    "        \n",
    "        # tune the KNN classifier with these predictors,\n",
    "        # collect accuracy for the best K\n",
    "        \n",
    "        acc <- workflow() |>\n",
    "        add_recipe(heart_recipe) |>\n",
    "        add_model(heart_model) |>\n",
    "        tune_grid(resamples = heart_vfold, grid = 10) |>\n",
    "        collect_metrics() |>\n",
    "        filter(.metric == \"accuracy\") |>\n",
    "        summarize(mx = max(mean))\n",
    "        acc <- acc$mx |> unlist()\n",
    "        \n",
    "        # add this result to the dataframe\n",
    "        \n",
    "        accs[[j]] <- acc\n",
    "        models[[j]] <- model_string\n",
    "        \n",
    "    }\n",
    "    jstar <- which.max(unlist(accs))\n",
    "    accuracies <- accuracies |>\n",
    "        add_row(size = i,\n",
    "               model_string = models[[jstar]],\n",
    "               accuracy = accs[[jstar]])\n",
    "    selected <- c(selected, names [[jstar]])\n",
    "    names <- names[-jstar]\n",
    "}\n",
    "accuracies\n",
    "                  \n",
    "                  "
   ]
  },
  {
   "cell_type": "code",
   "execution_count": null,
   "id": "d8ee3d35-7082-4723-85ad-d65e99030cb1",
   "metadata": {},
   "outputs": [],
   "source": [
    "Fig1.2"
   ]
  },
  {
   "cell_type": "markdown",
   "id": "f15b7529-d462-4fb9-b1f7-2dc486ff8982",
   "metadata": {},
   "source": [
    "We found from the forward selection that the best predictors we should use is age and maximum heart rate as the accuracy for those predictors is the highest of 0.71."
   ]
  },
  {
   "cell_type": "code",
   "execution_count": 16,
   "id": "132f349e-9d6d-4e7d-97b3-00ca1d914511",
   "metadata": {},
   "outputs": [
    {
     "data": {
      "image/png": "[encoded data removed]",
      "text/plain": [
       "plot without title"
      ]
     },
     "metadata": {
      "image/png": {
       "height": 420,
       "width": 420
      }
     },
     "output_type": "display_data"
    }
   ],
   "source": [
    "heart_plot<- heart_train |>\n",
    "            ggplot(aes (x = age, y = thalach, color = num)) +\n",
    "            geom_point() +\n",
    "            labs(x = \"Age\", y = \"Maximum Heart Rate (bpm)\", color = \"Heart Disease Status\") +\n",
    "            ggtitle(\"Maximum Heart Rate against Age\")\n",
    "heart_plot"
   ]
  },
  {
   "cell_type": "markdown",
   "id": "b253e527-4934-4205-b89f-e4ac785af550",
   "metadata": {},
   "source": [
    "Fig1.3"
   ]
  },
  {
   "cell_type": "markdown",
   "id": "4dbea8b7-8f86-4ca9-a318-a37002027a14",
   "metadata": {},
   "source": [
    "Fig1.3 shows that for increasing age, there is higher chance of having heart disease. This is shown as more blue data points with increasing age. However, for maximum heart rate, the plot is scattered, hence we are unable to say much. However, because the forward selection informed us that these two variables would best predict our model, we would still use these."
   ]
  },
  {
   "cell_type": "markdown",
   "id": "d85f1ef3-f64e-451a-9181-ed103afab683",
   "metadata": {},
   "source": [
    "Next, we created a recipe for our model to include age, maximum heart rate and cholesterol as our variables we want to use to predict whether our patient has heart disease. We assigned this object 'heart_recipe'. Next, we want to perform cross-validation to decide the most accurate K value we should use, hence we created a model with tune as neighbors. This model is assigned 'heart_model'."
   ]
  },
  {
   "cell_type": "code",
   "execution_count": 11,
   "id": "74fbbcfe-a6c4-4164-bd50-9dd5fa039559",
   "metadata": {},
   "outputs": [],
   "source": [
    "heart_recipe <- recipe(num ~ age + thalach, data = heart_train) |>\n",
    "                step_center(all_predictors()) |>\n",
    "                step_scale(all_predictors())\n",
    "\n",
    "heart_model <- nearest_neighbor(weight_func = \"rectangular\", neighbors = tune()) |>\n",
    "                set_engine(\"kknn\") |>\n",
    "                set_mode(\"classification\")"
   ]
  },
  {
   "cell_type": "markdown",
   "id": "2a2c800d-371c-4c65-bfef-b0b45ce306ff",
   "metadata": {},
   "source": [
    "We separated the data into 10 subsets of data to run the cross-validation and assigned it 'heart_vfold'. We chose 10-fold cross validation because 10 is sufficient enough for a low standard error, hence improving the accuracy of our predicting model. Next, we want to try run the cross-validation with different numbers of K-nearest, hence we assigned that object 'gridvals'. After that, we added the recipe and model into a workflow and assigned it 'heart_results' to assess the accuracy of our predicting model with 1-30 values of K. "
   ]
  },
  {
   "cell_type": "code",
   "execution_count": 18,
   "id": "9fceca2a-a157-4f42-8c40-946795e8a7f4",
   "metadata": {},
   "outputs": [
    {
     "data": {
      "text/html": [
       "<table class=\"dataframe\">\n",
       "<caption>A tibble: 30 × 7</caption>\n",
       "<thead>\n",
       "\t<tr><th scope=col>neighbors</th><th scope=col>.metric</th><th scope=col>.estimator</th><th scope=col>mean</th><th scope=col>n</th><th scope=col>std_err</th><th scope=col>.config</th></tr>\n",
       "\t<tr><th scope=col>&lt;int&gt;</th><th scope=col>&lt;chr&gt;</th><th scope=col>&lt;chr&gt;</th><th scope=col>&lt;dbl&gt;</th><th scope=col>&lt;int&gt;</th><th scope=col>&lt;dbl&gt;</th><th scope=col>&lt;chr&gt;</th></tr>\n",
       "</thead>\n",
       "<tbody>\n",
       "\t<tr><td>1</td><td>accuracy</td><td>binary</td><td>0.5442358</td><td>10</td><td>0.03344082</td><td>Preprocessor1_Model01</td></tr>\n",
       "\t<tr><td>2</td><td>accuracy</td><td>binary</td><td>0.5396904</td><td>10</td><td>0.03373008</td><td>Preprocessor1_Model02</td></tr>\n",
       "\t<tr><td>3</td><td>accuracy</td><td>binary</td><td>0.5872200</td><td>10</td><td>0.02022147</td><td>Preprocessor1_Model03</td></tr>\n",
       "\t<tr><td>⋮</td><td>⋮</td><td>⋮</td><td>⋮</td><td>⋮</td><td>⋮</td><td>⋮</td></tr>\n",
       "\t<tr><td>28</td><td>accuracy</td><td>binary</td><td>0.6584321</td><td>10</td><td>0.03091429</td><td>Preprocessor1_Model28</td></tr>\n",
       "\t<tr><td>29</td><td>accuracy</td><td>binary</td><td>0.6663702</td><td>10</td><td>0.02215629</td><td>Preprocessor1_Model29</td></tr>\n",
       "\t<tr><td>30</td><td>accuracy</td><td>binary</td><td>0.6709157</td><td>10</td><td>0.02296010</td><td>Preprocessor1_Model30</td></tr>\n",
       "</tbody>\n",
       "</table>\n"
      ],
      "text/latex": [
       "A tibble: 30 × 7\n",
       "\\begin{tabular}{lllllll}\n",
       " neighbors & .metric & .estimator & mean & n & std\\_err & .config\\\\\n",
       " <int> & <chr> & <chr> & <dbl> & <int> & <dbl> & <chr>\\\\\n",
       "\\hline\n",
       "\t 1 & accuracy & binary & 0.5442358 & 10 & 0.03344082 & Preprocessor1\\_Model01\\\\\n",
       "\t 2 & accuracy & binary & 0.5396904 & 10 & 0.03373008 & Preprocessor1\\_Model02\\\\\n",
       "\t 3 & accuracy & binary & 0.5872200 & 10 & 0.02022147 & Preprocessor1\\_Model03\\\\\n",
       "\t ⋮ & ⋮ & ⋮ & ⋮ & ⋮ & ⋮ & ⋮\\\\\n",
       "\t 28 & accuracy & binary & 0.6584321 & 10 & 0.03091429 & Preprocessor1\\_Model28\\\\\n",
       "\t 29 & accuracy & binary & 0.6663702 & 10 & 0.02215629 & Preprocessor1\\_Model29\\\\\n",
       "\t 30 & accuracy & binary & 0.6709157 & 10 & 0.02296010 & Preprocessor1\\_Model30\\\\\n",
       "\\end{tabular}\n"
      ],
      "text/markdown": [
       "\n",
       "A tibble: 30 × 7\n",
       "\n",
       "| neighbors &lt;int&gt; | .metric &lt;chr&gt; | .estimator &lt;chr&gt; | mean &lt;dbl&gt; | n &lt;int&gt; | std_err &lt;dbl&gt; | .config &lt;chr&gt; |\n",
       "|---|---|---|---|---|---|---|\n",
       "| 1 | accuracy | binary | 0.5442358 | 10 | 0.03344082 | Preprocessor1_Model01 |\n",
       "| 2 | accuracy | binary | 0.5396904 | 10 | 0.03373008 | Preprocessor1_Model02 |\n",
       "| 3 | accuracy | binary | 0.5872200 | 10 | 0.02022147 | Preprocessor1_Model03 |\n",
       "| ⋮ | ⋮ | ⋮ | ⋮ | ⋮ | ⋮ | ⋮ |\n",
       "| 28 | accuracy | binary | 0.6584321 | 10 | 0.03091429 | Preprocessor1_Model28 |\n",
       "| 29 | accuracy | binary | 0.6663702 | 10 | 0.02215629 | Preprocessor1_Model29 |\n",
       "| 30 | accuracy | binary | 0.6709157 | 10 | 0.02296010 | Preprocessor1_Model30 |\n",
       "\n"
      ],
      "text/plain": [
       "   neighbors .metric  .estimator mean      n  std_err    .config              \n",
       "1  1         accuracy binary     0.5442358 10 0.03344082 Preprocessor1_Model01\n",
       "2  2         accuracy binary     0.5396904 10 0.03373008 Preprocessor1_Model02\n",
       "3  3         accuracy binary     0.5872200 10 0.02022147 Preprocessor1_Model03\n",
       "⋮  ⋮         ⋮        ⋮          ⋮         ⋮  ⋮          ⋮                    \n",
       "28 28        accuracy binary     0.6584321 10 0.03091429 Preprocessor1_Model28\n",
       "29 29        accuracy binary     0.6663702 10 0.02215629 Preprocessor1_Model29\n",
       "30 30        accuracy binary     0.6709157 10 0.02296010 Preprocessor1_Model30"
      ]
     },
     "metadata": {},
     "output_type": "display_data"
    }
   ],
   "source": [
    "heart_vfold <- vfold_cv(heart_train, v = 10, strata = num)\n",
    "\n",
    "gridvals <- tibble(neighbors = seq(from = 1, to = 30))\n",
    "\n",
    "heart_results <- workflow() |>\n",
    "              add_recipe(heart_recipe) |>\n",
    "              add_model(heart_model) |>\n",
    "              tune_grid(resamples = heart_vfold, grid = gridvals) |>\n",
    "              collect_metrics() |>\n",
    "              filter(.metric == \"accuracy\")\n",
    "heart_results \n"
   ]
  },
  {
   "cell_type": "markdown",
   "id": "8201fa06-aa52-40d6-b761-ab22b626346f",
   "metadata": {},
   "source": [
    "Fig1.4"
   ]
  },
  {
   "cell_type": "markdown",
   "id": "2759bd4c-4b53-49fe-94b9-517c8f310aff",
   "metadata": {},
   "source": [
    "The Fig1.4 shows the accuracy of using 1 to 30 K-nearest neighbors. However, to find the optimal K-nearest neighbor, we want to plot a graph of K-nearest against accuracy to find optimal K."
   ]
  },
  {
   "cell_type": "code",
   "execution_count": 19,
   "id": "24b778b3-9165-471e-8997-79116a21ba1d",
   "metadata": {},
   "outputs": [
    {
     "data": {
      "image/png": "[encoded data removed]",
      "text/plain": [
       "plot without title"
      ]
     },
     "metadata": {
      "image/png": {
       "height": 420,
       "width": 420
      }
     },
     "output_type": "display_data"
    }
   ],
   "source": [
    "heart_k_plot <- heart_results |> \n",
    "                ggplot(aes(x = neighbors, y = mean)) +\n",
    "                geom_point() +\n",
    "                geom_line() +\n",
    "                labs(x = \"Neighbors\", y = \"Accuracy Estimate\") +\n",
    "                theme(text = element_text(size = 20))\n",
    "heart_k_plot"
   ]
  },
  {
   "cell_type": "markdown",
   "id": "51dbf593-cce9-44c7-a574-e73f42cef825",
   "metadata": {},
   "source": [
    "Fig1.5"
   ]
  },
  {
   "cell_type": "markdown",
   "id": "16f87776-0f36-40c6-a34c-a81a7d358184",
   "metadata": {},
   "source": [
    "Our graph shows that using either K= 21 or 22 would provide us the optimal accuracy, hence we will build a model using K=22."
   ]
  },
  {
   "cell_type": "code",
   "execution_count": 20,
   "id": "f687a287-97ed-40c8-a873-8f926d26950f",
   "metadata": {},
   "outputs": [
    {
     "data": {
      "text/plain": [
       "══ Workflow [trained] ══════════════════════════════════════════════════════════\n",
       "\u001b[3mPreprocessor:\u001b[23m Recipe\n",
       "\u001b[3mModel:\u001b[23m nearest_neighbor()\n",
       "\n",
       "── Preprocessor ────────────────────────────────────────────────────────────────\n",
       "2 Recipe Steps\n",
       "\n",
       "• step_center()\n",
       "• step_scale()\n",
       "\n",
       "── Model ───────────────────────────────────────────────────────────────────────\n",
       "\n",
       "Call:\n",
       "kknn::train.kknn(formula = ..y ~ ., data = data, ks = min_rows(22,     data, 5), kernel = ~\"rectangular\")\n",
       "\n",
       "Type of response variable: nominal\n",
       "Minimal misclassification: 0.3348018\n",
       "Best kernel: rectangular\n",
       "Best k: 22"
      ]
     },
     "metadata": {},
     "output_type": "display_data"
    }
   ],
   "source": [
    "set.seed(20)\n",
    "\n",
    "best_heart_spec <- nearest_neighbor(weight_func = \"rectangular\", neighbors = 22) |>\n",
    "                set_engine(\"kknn\") |>\n",
    "                set_mode(\"classification\")\n",
    "\n",
    "best_heart_fit <- workflow() |>\n",
    "                add_recipe(heart_recipe) |>\n",
    "                add_model(best_heart_spec) |>\n",
    "                fit(data = heart_train)\n",
    "\n",
    "best_heart_fit"
   ]
  },
  {
   "cell_type": "markdown",
   "id": "8679fbb2-6b7d-4a25-9d22-887e98b48ff4",
   "metadata": {},
   "source": [
    "Finally, we want to use our model to predict on the test dataset to figure out whether a patient has heart disease."
   ]
  },
  {
   "cell_type": "code",
   "execution_count": null,
   "id": "9aa3323b-ff98-4906-b879-85efe923d395",
   "metadata": {},
   "outputs": [],
   "source": [
    "set.seed(20)\n",
    "\n",
    "heart_predictions <- predict(best_heart_fit, heart_test) |>\n",
    "                    bind_cols(heart_test)\n",
    "\n",
    "heart_metrics <- heart_predictions "
   ]
  },
  {
   "cell_type": "markdown",
   "id": "84d1fd56-df3c-43b8-9599-fa09857d9343",
   "metadata": {},
   "source": [
    "# Discussion:\n",
    "1)genetics are included"
   ]
  },
  {
   "cell_type": "markdown",
   "id": "eda3dfd2-789d-449f-be9c-36c68e3bf9ed",
   "metadata": {},
   "source": [
    "Citations:\n",
    "1. Detrano, R., Janosi, A., Steinbrunn, W., Pfisterer, M. (1988). Heart Disease Data Set.      https://archive.ics.uci.edu/ml/datasets/Heart+Disease\n",
    "\n",
    "2. Peter, W.F.W., Ralph, B.D., Daniel, L., A, M.B., Halit, S., William, B.K. (1998). Prediction of Coronary Heart Disease Using Risk Categories. Circulation, 97(18), 1837-1847. https://doi.org/10.1161/01.CIR.97.18.1837"
   ]
  },
  {
   "cell_type": "code",
   "execution_count": null,
   "id": "a6131646-f106-460a-838f-1ee45d79b62c",
   "metadata": {},
   "outputs": [],
   "source": []
  }
 ],
 "metadata": {
  "kernelspec": {
   "display_name": "R",
   "language": "R",
   "name": "ir"
  },
  "language_info": {
   "codemirror_mode": "r",
   "file_extension": ".r",
   "mimetype": "text/x-r-source",
   "name": "R",
   "pygments_lexer": "r",
   "version": "4.1.3"
  }
 },
 "nbformat": 4,
 "nbformat_minor": 5
}
