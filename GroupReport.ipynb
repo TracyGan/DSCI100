{
 "cells": [
  {
   "cell_type": "markdown",
   "id": "c48d07a2-fcca-4d74-84db-0a5ebb275b77",
   "metadata": {},
   "source": [
    "# Group Report"
   ]
  },
  {
   "cell_type": "markdown",
   "id": "1b0ca0ef-70e0-4a81-a141-14aa5fe408cd",
   "metadata": {},
   "source": [
    "## Heart Disease\n",
    "Today we will explore the heart disease dataset. We want to create a classifier model to predict whether a patient has heart disease by using age, cholesterol and maximum heart rate as variables. We chose these variables as our predictors because they are important risk factors according to a research article (Peter, 1998). \n",
    "\n",
    "The columns in this dataset are:\n",
    "1. Age - (years)\n",
    "2. Sex \n",
    "3. Chest Pain Type - (1 = typical angina)\n",
    "                     (2 = atypical angina)\n",
    "                     (3 = non-anginal pain)\n",
    "                     (4 = asymptomatic)\n",
    "4. Resting Blood Pressure - (mm Hg)\n",
    "5. Cholesterol -(mg/dl)\n",
    "6. Fasting Blood Sugar - (> 120 mg/dl)\n",
    "                       - (1 = true; 0 = false)\n",
    "7. Resting Electrocardiogram\n",
    "8. Maximum heart rate\n",
    "9. Exercised induced angina - (1 = yes; 0 = no)\n",
    "10. ST depression induced by exercise relative to rest\n",
    "11. Slope of peak exercise ST segment\n",
    "12. Number of major vessels \n",
    "13. Blood disorder - 3 = normal\n",
    "                     6 = fixed defect\n",
    "                     7 = reversible defect\n",
    "14. Heart disease status - either yes or no "
   ]
  },
  {
   "cell_type": "code",
   "execution_count": null,
   "id": "9a381b97-8f9f-44a9-9346-ff77d32d3a0a",
   "metadata": {},
   "outputs": [],
   "source": [
    "# Run this cell before continuing.\n",
    "library(tidyverse)\n",
    "library(repr)\n",
    "library(tidymodels)\n",
    "options(repr.matrix.max.rows = 6)"
   ]
  },
  {
   "cell_type": "code",
   "execution_count": null,
   "id": "8d64e5b0-8f37-43e8-b7e4-00a489976af3",
   "metadata": {},
   "outputs": [],
   "source": [
    "set.seed(20)\n",
    "\n",
    "heart_data_1 <- read_csv(\"data/processed.cleveland (1).data\", col_names = FALSE) |>\n",
    "                mutate(X14 = as_factor(X14)) \n",
    "                \n",
    "colnames(heart_data_1) <- c(\"age\",\"sex\",\"cp\",\"trestbps\",\"chol\",\"fbs\",\"restecg\",\"thalach\",\n",
    "                                    \"exang\",\"oldpeak\",\"slope\",\"ca\",\"thal\",\"num\") \n",
    "heart_data <- heart_data_1 |>\n",
    "                mutate(num=recode(num, \"0\" = \"no\",\n",
    "                                       \"1\" = \"yes\",\n",
    "                                       \"2\" = \"yes\",\n",
    "                                       \"3\" = \"yes\",\n",
    "                                       \"4\" = \"yes\")) |>\n",
    "                mutate(sex=recode(sex, \"1\" = \"male\",\n",
    "                                       \"0\" = \"female\"))\n",
    "                           \n",
    "heart_data"
   ]
  }
 ],
 "metadata": {
  "kernelspec": {
   "display_name": "R",
   "language": "R",
   "name": "ir"
  },
  "language_info": {
   "codemirror_mode": "r",
   "file_extension": ".r",
   "mimetype": "text/x-r-source",
   "name": "R",
   "pygments_lexer": "r",
   "version": "4.1.3"
  }
 },
 "nbformat": 4,
 "nbformat_minor": 5
}
