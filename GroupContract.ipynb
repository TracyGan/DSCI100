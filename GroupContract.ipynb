{
 "cells": [
  {
   "cell_type": "code",
   "execution_count": null,
   "id": "a1b5f3b4-2d91-4c51-a3a0-ee3557540446",
   "metadata": {},
   "outputs": [],
   "source": [
    "Group Contract"
   ]
  },
  {
   "cell_type": "code",
   "execution_count": null,
   "id": "168b1253-1896-4acd-92e2-cc00c57f2ab6",
   "metadata": {},
   "outputs": [],
   "source": [
    "By: Tracy Gan, Zhuoran Wang, Bruce Xie, Raunaq Sodhi"
   ]
  },
  {
   "cell_type": "markdown",
   "id": "3e00d423-ac95-4ed5-bb93-36fd4ec60639",
   "metadata": {},
   "source": [
    "## Heart Disease\n",
    "Today we will explore the heart disease dataset. (Explain what we are trying to do with the dataset)\n",
    "\n",
    "The columns in this dataset are:\n",
    "1. Age - in years\n",
    "2. Sex - (1 = male; 0 = female)\n",
    "3. "
   ]
  },
  {
   "cell_type": "code",
   "execution_count": null,
   "id": "aee479da-d097-45ea-bc43-7e70b5959bfc",
   "metadata": {},
   "outputs": [],
   "source": [
    "# Run this cell before continuing.\n",
    "library(tidyverse)\n",
    "library(repr)\n",
    "options(repr.matrix.max.rows = 6)"
   ]
  },
  {
   "cell_type": "code",
   "execution_count": null,
   "id": "897a881b-4f6e-439d-b208-7e511cd4f784",
   "metadata": {},
   "outputs": [],
   "source": [
    "heart_data <- read_csv(\"data/\")"
   ]
  }
 ],
 "metadata": {
  "kernelspec": {
   "display_name": "R",
   "language": "R",
   "name": "ir"
  },
  "language_info": {
   "codemirror_mode": "r",
   "file_extension": ".r",
   "mimetype": "text/x-r-source",
   "name": "R",
   "pygments_lexer": "r",
   "version": "4.1.3"
  }
 },
 "nbformat": 4,
 "nbformat_minor": 5
}
