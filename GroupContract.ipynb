{
 "cells": [
  {
   "cell_type": "code",
   "execution_count": null,
   "id": "a1b5f3b4-2d91-4c51-a3a0-ee3557540446",
   "metadata": {},
   "outputs": [],
   "source": [
    "# Group Contract"
   ]
  },
  {
   "cell_type": "code",
   "execution_count": null,
   "id": "168b1253-1896-4acd-92e2-cc00c57f2ab6",
   "metadata": {},
   "outputs": [],
   "source": [
    "By: Tracy Gan, Zhuoran Wang, Bruce Xie, Raunaq Sodhi"
   ]
  },
  {
   "cell_type": "markdown",
   "id": "3e00d423-ac95-4ed5-bb93-36fd4ec60639",
   "metadata": {},
   "source": [
    "## Heart Disease\n",
    "Today we will explore the heart disease dataset. (Explain what we are trying to do with the dataset, which variables we want to have in table and what we are trying to predict with which predictors)\n",
    "\n",
    "The columns in this dataset are:\n",
    "1. Age - in years\n",
    "2. Sex - (1 = male; 0 = female)\n",
    "3. Chest Pain Type - (1 = typical angina)\n",
    "                     (2 = atypical angina)\n",
    "                     (3 = non-anginal pain)\n",
    "                     (4 = asymptomatic)\n",
    "4. Resting Blood Pressure - in mm Hg\n",
    "5. Cholesterol - in mg/dl\n",
    "6. Fasting Blood Sugar - (> 120 mg/dl)\n",
    "                       - (1 = true; 0 = false)\n",
    "7. Resting ECG\n",
    "8. Maximum heart rate\n",
    "9. Exercised induced angina - (1 = yes; 0 = no)\n",
    "10. (dont think it is relevant) ; don't understand\n",
    "11. Slope of peak exercise ST segment\n",
    "12. Number of major vessels \n",
    "13. same as 10.\n",
    "14. Angiographic disease status - (0 : < 50% diameter narrowing)\n",
    "                                - (1 : > 50% diameter narrowing)"
   ]
  },
  {
   "cell_type": "code",
   "execution_count": 25,
   "id": "aee479da-d097-45ea-bc43-7e70b5959bfc",
   "metadata": {},
   "outputs": [],
   "source": [
    "# Run this cell before continuing.\n",
    "library(tidyverse)\n",
    "library(repr)\n",
    "options(repr.matrix.max.rows = 6)"
   ]
  },
  {
   "cell_type": "code",
   "execution_count": 36,
   "id": "897a881b-4f6e-439d-b208-7e511cd4f784",
   "metadata": {},
   "outputs": [
    {
     "ename": "ERROR",
     "evalue": "Error in read_csv(\"data/processed.cleveland (1).data\", col_names = FALSE, : unused argument (colnames = c(\"Age\", \"Sex\"))\n",
     "output_type": "error",
     "traceback": [
      "Error in read_csv(\"data/processed.cleveland (1).data\", col_names = FALSE, : unused argument (colnames = c(\"Age\", \"Sex\"))\nTraceback:\n"
     ]
    }
   ],
   "source": [
    "heart_cleveland_data <- read_csv(\"data/processed.cleveland (1).data\", col_names = FALSE)\n",
    "heart_cleveland_data\n",
    "\n",
    "heart_switzerland_data <- read_csv(\"data/processed.switzerland.data\", col_names = FALSE)\n",
    "heart_switzerland_data \n",
    "\n",
    "heart_hungarian_data <- read_csv(\"data/processed.hungarian (1).data\", col_names = FALSE)\n",
    "heart_hungarian_data"
   ]
  },
  {
   "cell_type": "code",
   "execution_count": null,
   "id": "ae569d55-8e7b-4bb4-b059-7de8dac9a69c",
   "metadata": {},
   "outputs": [],
   "source": []
  }
 ],
 "metadata": {
  "kernelspec": {
   "display_name": "R",
   "language": "R",
   "name": "ir"
  },
  "language_info": {
   "codemirror_mode": "r",
   "file_extension": ".r",
   "mimetype": "text/x-r-source",
   "name": "R",
   "pygments_lexer": "r",
   "version": "4.1.3"
  }
 },
 "nbformat": 4,
 "nbformat_minor": 5
}
