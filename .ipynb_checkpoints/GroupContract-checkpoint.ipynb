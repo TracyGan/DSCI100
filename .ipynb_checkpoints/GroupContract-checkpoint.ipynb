{
 "cells": [
  {
   "cell_type": "code",
   "execution_count": null,
   "id": "a1b5f3b4-2d91-4c51-a3a0-ee3557540446",
   "metadata": {},
   "outputs": [],
   "source": [
    "Group Contract"
   ]
  },
  {
   "cell_type": "code",
   "execution_count": null,
   "id": "168b1253-1896-4acd-92e2-cc00c57f2ab6",
   "metadata": {},
   "outputs": [],
   "source": [
    "By: Tracy Gan, Zhuoran Wang, Bruce Xie, Raunaq Sodhi"
   ]
  },
  {
   "cell_type": "code",
   "execution_count": null,
   "id": "1f2b192e-611d-4e33-8e41-30be40e1b334",
   "metadata": {},
   "outputs": [],
   "source": []
  }
 ],
 "metadata": {
  "kernelspec": {
   "display_name": "R",
   "language": "R",
   "name": "ir"
  },
  "language_info": {
   "codemirror_mode": "r",
   "file_extension": ".r",
   "mimetype": "text/x-r-source",
   "name": "R",
   "pygments_lexer": "r",
   "version": "4.1.3"
  }
 },
 "nbformat": 4,
 "nbformat_minor": 5
}
